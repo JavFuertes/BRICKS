{
 "cells": [
  {
   "cell_type": "markdown",
   "metadata": {},
   "source": [
    "<img \n",
    "    style=\"position: absolute; \n",
    "           left: 60%; \n",
    "           top: 0; /* Added to ensure proper positioning */\n",
    "           height: 900px; \n",
    "           width: 40%; /* Maintain the original width */\n",
    "           object-fit: cover; /* Adjust if necessary */\n",
    "           clip-path: inset(0px 50px 0px 50px round 10px);\" \n",
    "    src= \"public_html\\_data\\fig\\buildingdamage.svg\"\n",
    "/>\n",
    "</figure>\n",
    "\n",
    "\n",
    "<h1 style=\"width: 60%; color: #EC6842; font-size: 55pt;\">\n",
    "    <Strong>\n",
    "        IJsselsteinseweg 77\n",
    "    </Strong>\n",
    "</h1>\n",
    "\n",
    "<h2 id=\"Background\"><B>\n",
    "    Rationale for the project<a class=\"anchor-link\" href=\"#Background\">&#182;</a>\n",
    "    </B>\n",
    "</h2>\n",
    "<p style=\"text-align: justify; width: 60%; font-weight: normal;\">\n",
    "     This studies case study is the building IJsselsteinseweg 77 in Nieuwegein in the Netherlands, a deatched 2-layer unreinforced masonry structure from 1961 with 2 floors and a cellar which was eventually demolished circa 2015. We can evaluate the state of damage before its demolishing due to a Foundation research report that was commissioned by the owner to Sandra Lobbe Ispectie & Advies, a building consulting firm who carried out the building and foundation investigation on June 2019 and thereafter produced a report documenting the buildings measurements, characteristics, damage state and their own assessment on the necessary course of action or risk of the building integrity due to subsidence effects. The main assessment found that the current capacity provided by the building’s foundation was Insufficient and given the experienced deformations by the building and the damage state of the building, countermeasures should be implemented in a period of 1-5 years following the assessment date. \n",
    "</p>"
   ]
  },
  {
   "cell_type": "markdown",
   "metadata": {},
   "source": [
    "## <strong> X | Imports</strong>"
   ]
  },
  {
   "cell_type": "code",
   "execution_count": 1,
   "metadata": {},
   "outputs": [],
   "source": [
    "from bricks import house, LTSM, EM\n",
    "from bricks.tools.plots import EM_plot, LTSM_plot, subsurface\n",
    "\n",
    "import numpy as np"
   ]
  },
  {
   "cell_type": "markdown",
   "metadata": {},
   "source": [
    "## <strong> 0 | Instantiate `HOUSE` object</strong>"
   ]
  },
  {
   "cell_type": "markdown",
   "metadata": {},
   "source": [
    "### <strong> 0.1 | Structure dimensions and measurements</strong>"
   ]
  },
  {
   "cell_type": "code",
   "execution_count": 2,
   "metadata": {},
   "outputs": [],
   "source": [
    "walls = {\n",
    "    'Wall 1':{\"x\": np.array([0, 0, 0]), \"y\": np.array([0, 3.5, 7]), \"z\": np.array([0, -72, -152]), 'phi': np.array([1/200,1/200]), 'height': 5250, 'thickness': 27,'area': 390600},\n",
    "    'Wall 2':{\"x\": np.array([0, 4.5, 8.9]), \"y\": np.array([7, 7, 7]), \"z\": np.array([-152, -163, -188]),  'phi': np.array([1/33,1/50]), 'height': 5250, 'thickness': 27,'area': 464625},\n",
    "    'Wall 3':{\"x\": np.array([8.9, 8.9]), \"y\": np.array([3.6, 7]), \"z\": np.array([-149, -188]), 'phi': np.array([0,0]), 'height': 5250, 'thickness': 27,'area': 166950},\n",
    "    'Wall 4':{\"x\": np.array([8.9, 10.8]), \"y\": np.array([3.6, 3.6]), \"z\": np.array([-149,-138]), 'phi': np.array([0,0]), 'height': 2850, 'thickness': 27,'area': 49020},\n",
    "    'Wall 5':{\"x\": np.array([10.8, 10.8]), \"y\": np.array([0, 3.6]), \"z\": np.array([-104, -138]), 'phi': np.array([1/77,1/67]), 'height': 2850, 'thickness': 27,'area': 96720},\n",
    "    'Wall 6':{\"x\": np.array([0, 5.2, 6.4, 8.9, 10.8]), \"y\": np.array([0, 0, 0, 0, 0]), \"z\": np.array([0, -42, -55, -75, -104]), 'phi': np.array([1/100,1/100]), 'height': 5000, 'thickness': 27, 'area': 517980},\n",
    "}\n",
    "\n",
    "damage =  { 'crack_1' : {'wall_id' : 'Wall 2','c_w': 4,'c_l': 890,},\n",
    "            'crack_2' : {'wall_id' : 'Wall 1','c_w': 2,'c_l': 1670,},\n",
    "            'crack_3' : {'wall_id' : 'Wall 2','c_w': 3,'c_l': 1868,},\n",
    "            'crack_4' : {'wall_id' : 'Wall 7','c_w': 0.1,'c_l': 2000,},\n",
    "            'crack_5' : {'wall_id' : 'Wall 2','c_w': 2,'c_l': 1760,},\n",
    "            'crack_6' : {'wall_id' : 'Wall 2','c_w': 1,'c_l': 994,},\n",
    "            'crack_7' : {'wall_id' : 'Wall 2','c_w': 0.1,'c_l': 500,},\n",
    "            'crack_8' : {'wall_id' : 'Wall 2','c_w': 2,'c_l': 993,}}\n",
    "\n",
    "ijsselsteinseweg = house(measurements = walls)\n",
    "ijsselsteinseweg.state = damage"
   ]
  },
  {
   "cell_type": "markdown",
   "metadata": {},
   "source": [
    "### <strong> 0.2 | Estimating the displacement surface & greenfield profile</strong>"
   ]
  },
  {
   "cell_type": "code",
   "execution_count": 3,
   "metadata": {},
   "outputs": [
    {
     "data": {
      "text/html": [
       "\n",
       "        <iframe\n",
       "            width=\"100%\"\n",
       "            height=\"650\"\n",
       "            src=\"http://127.0.0.1:8050/\"\n",
       "            frameborder=\"0\"\n",
       "            allowfullscreen\n",
       "            \n",
       "        ></iframe>\n",
       "        "
      ],
      "text/plain": [
       "<IPython.lib.display.IFrame at 0x21ca448c190>"
      ]
     },
     "metadata": {},
     "output_type": "display_data"
    }
   ],
   "source": [
    "ijsselsteinseweg.interpolate() # Interpolate subsidence shape\n",
    "ijsselsteinseweg.fit_function(i_guess = 1, tolerance = 1e-2, step = 1) # Fit gaussian shapes to walls\n",
    "\n",
    "params = ijsselsteinseweg.soil['house'].values()\n",
    "app = subsurface(ijsselsteinseweg, *params)\n",
    "app.run_server(port=8050, debug=False)"
   ]
  },
  {
   "cell_type": "markdown",
   "metadata": {},
   "source": [
    "From the above data we can observe how all curves increasingly progress towards the maximum displacement but do not resemble a gaussian shape which we assume to be the shape that subsidence patterns take. As a consequence we require to try to extrapolate outside the data to conitnuate the subisdence shape and we make use of an optimisation algorithm in order to find the values of the different variables in the function.   "
   ]
  },
  {
   "cell_type": "markdown",
   "metadata": {},
   "source": [
    "## <strong> 1 | Assessing the damage of the building</strong>\n",
    "\n",
    "### <strong> 1.1 | Assesment through Empirical Methods </strong>"
   ]
  },
  {
   "cell_type": "code",
   "execution_count": 4,
   "metadata": {},
   "outputs": [
    {
     "data": {
      "text/html": [
       "\n",
       "        <iframe\n",
       "            width=\"100%\"\n",
       "            height=\"650\"\n",
       "            src=\"http://127.0.0.1:8051/\"\n",
       "            frameborder=\"0\"\n",
       "            allowfullscreen\n",
       "            \n",
       "        ></iframe>\n",
       "        "
      ],
      "text/plain": [
       "<IPython.lib.display.IFrame at 0x21ca42a18d0>"
      ]
     },
     "metadata": {},
     "output_type": "display_data"
    }
   ],
   "source": [
    "ijsselsteinseweg.SRI(tolerance= 0.01) #Compute the SRI parameters\n",
    "report = EM(ijsselsteinseweg.soil['sri'])\n",
    "\n",
    "app = EM_plot(report)\n",
    "app.run_server(port=8051, debug=False)"
   ]
  },
  {
   "cell_type": "markdown",
   "metadata": {},
   "source": [
    "### <strong> 1.2 | Assesment through the LTSM </strong>\n",
    "\n",
    "Include further assumptions as conditions\n",
    "2. TILT VERIFICATION??\n",
    "3. Height in sagging zone NA assumed to be at t= H/2 where as for hogging we assume the NA to be at the lower edge therfore t=H \n",
    "2. IDEA: Define as function determine potential maximum strain values and calibrate E/G ratio"
   ]
  },
  {
   "cell_type": "code",
   "execution_count": 5,
   "metadata": {},
   "outputs": [
    {
     "data": {
      "text/html": [
       "\n",
       "        <iframe\n",
       "            width=\"100%\"\n",
       "            height=\"650\"\n",
       "            src=\"http://127.0.0.1:8052/\"\n",
       "            frameborder=\"0\"\n",
       "            allowfullscreen\n",
       "            \n",
       "        ></iframe>\n",
       "        "
      ],
      "text/plain": [
       "<IPython.lib.display.IFrame at 0x21ca979f100>"
      ]
     },
     "metadata": {},
     "output_type": "display_data"
    }
   ],
   "source": [
    "limit_line = -1\n",
    "eg_rat =  2.6  # Calibrate\n",
    "LTSM(ijsselsteinseweg, limit_line, eg_rat, methods = ['greenfield','measurements'])\n",
    "\n",
    "app = LTSM_plot(ijsselsteinseweg)    \n",
    "app.run_server(port=8052, debug=True, dev_tools_ui=False)"
   ]
  },
  {
   "cell_type": "code",
   "execution_count": 6,
   "metadata": {},
   "outputs": [
    {
     "data": {
      "text/html": [
       "\n",
       "        <iframe\n",
       "            width=\"100%\"\n",
       "            height=\"650\"\n",
       "            src=\"http://127.0.0.1:8054/\"\n",
       "            frameborder=\"0\"\n",
       "            allowfullscreen\n",
       "            \n",
       "        ></iframe>\n",
       "        "
      ],
      "text/plain": [
       "<IPython.lib.display.IFrame at 0x21ca44d74f0>"
      ]
     },
     "metadata": {},
     "output_type": "display_data"
    }
   ],
   "source": [
    "report1 = ijsselsteinseweg.assessment['ltsm']['greenfield']['report']\n",
    "report2 = ijsselsteinseweg.assessment['ltsm']['measurements']['report']\n",
    "\n",
    "app = EM_plot(report2)\n",
    "app.run_server(port=8054, debug=False)"
   ]
  },
  {
   "cell_type": "markdown",
   "metadata": {},
   "source": [
    "### <strong> Y | Proces save data </strong>\n"
   ]
  },
  {
   "cell_type": "code",
   "execution_count": 7,
   "metadata": {},
   "outputs": [],
   "source": [
    "dicts = [ijsselsteinseweg.soil['sri'],\n",
    "         ijsselsteinseweg.process['params'],\n",
    "         ijsselsteinseweg.assessment['ltsm']['greenfield']['results'],\n",
    "         ijsselsteinseweg.assessment['ltsm']['measurements']['results'],\n",
    "         ijsselsteinseweg.soil['shape']]\n",
    "names = ['sri','gf_params','LTSM-GF','LTSM-MS', 'MS-VAR']\n",
    "ijsselsteinseweg.process_dfs(dicts, names)"
   ]
  },
  {
   "cell_type": "code",
   "execution_count": 8,
   "metadata": {},
   "outputs": [
    {
     "data": {
      "text/html": [
       "<div>\n",
       "<style scoped>\n",
       "    .dataframe tbody tr th:only-of-type {\n",
       "        vertical-align: middle;\n",
       "    }\n",
       "\n",
       "    .dataframe tbody tr th {\n",
       "        vertical-align: top;\n",
       "    }\n",
       "\n",
       "    .dataframe thead th {\n",
       "        text-align: right;\n",
       "    }\n",
       "</style>\n",
       "<table border=\"1\" class=\"dataframe\">\n",
       "  <thead>\n",
       "    <tr style=\"text-align: right;\">\n",
       "      <th></th>\n",
       "      <th>inflection_points</th>\n",
       "      <th>regions</th>\n",
       "      <th>region_lengths</th>\n",
       "      <th>region_axes</th>\n",
       "      <th>d_deflection_zone</th>\n",
       "    </tr>\n",
       "  </thead>\n",
       "  <tbody>\n",
       "    <tr>\n",
       "      <th>0</th>\n",
       "      <td>[3.5]</td>\n",
       "      <td>[1]</td>\n",
       "      <td>[7.0]</td>\n",
       "      <td>[[0.0, 7.0]]</td>\n",
       "      <td>[4.0]</td>\n",
       "    </tr>\n",
       "    <tr>\n",
       "      <th>1</th>\n",
       "      <td>[4.5]</td>\n",
       "      <td>[1]</td>\n",
       "      <td>[8.9]</td>\n",
       "      <td>[[0.0, 8.9]]</td>\n",
       "      <td>[7.202247191011235]</td>\n",
       "    </tr>\n",
       "    <tr>\n",
       "      <th>2</th>\n",
       "      <td>[]</td>\n",
       "      <td>[0]</td>\n",
       "      <td>[3.4]</td>\n",
       "      <td>[[3.6, 7.0]]</td>\n",
       "      <td>[0]</td>\n",
       "    </tr>\n",
       "    <tr>\n",
       "      <th>3</th>\n",
       "      <td>[]</td>\n",
       "      <td>[0]</td>\n",
       "      <td>[1.9000000000000004]</td>\n",
       "      <td>[[8.9, 10.8]]</td>\n",
       "      <td>[0]</td>\n",
       "    </tr>\n",
       "    <tr>\n",
       "      <th>4</th>\n",
       "      <td>[]</td>\n",
       "      <td>[0]</td>\n",
       "      <td>[3.6]</td>\n",
       "      <td>[[0.0, 3.6]]</td>\n",
       "      <td>[0]</td>\n",
       "    </tr>\n",
       "    <tr>\n",
       "      <th>5</th>\n",
       "      <td>[5.2, 6.4, 8.9]</td>\n",
       "      <td>[-1, 1, 1]</td>\n",
       "      <td>[6.4, 3.7, 4.4]</td>\n",
       "      <td>[[0.0, 6.4], [5.2, 8.9], [6.4, 10.8]]</td>\n",
       "      <td>[2.6875, 2.297297297297291, 7.8409090909090935]</td>\n",
       "    </tr>\n",
       "  </tbody>\n",
       "</table>\n",
       "</div>"
      ],
      "text/plain": [
       "  inflection_points     regions        region_lengths  \\\n",
       "0             [3.5]         [1]                 [7.0]   \n",
       "1             [4.5]         [1]                 [8.9]   \n",
       "2                []         [0]                 [3.4]   \n",
       "3                []         [0]  [1.9000000000000004]   \n",
       "4                []         [0]                 [3.6]   \n",
       "5   [5.2, 6.4, 8.9]  [-1, 1, 1]       [6.4, 3.7, 4.4]   \n",
       "\n",
       "                             region_axes  \\\n",
       "0                           [[0.0, 7.0]]   \n",
       "1                           [[0.0, 8.9]]   \n",
       "2                           [[3.6, 7.0]]   \n",
       "3                          [[8.9, 10.8]]   \n",
       "4                           [[0.0, 3.6]]   \n",
       "5  [[0.0, 6.4], [5.2, 8.9], [6.4, 10.8]]   \n",
       "\n",
       "                                 d_deflection_zone  \n",
       "0                                            [4.0]  \n",
       "1                              [7.202247191011235]  \n",
       "2                                              [0]  \n",
       "3                                              [0]  \n",
       "4                                              [0]  \n",
       "5  [2.6875, 2.297297297297291, 7.8409090909090935]  "
      ]
     },
     "execution_count": 8,
     "metadata": {},
     "output_type": "execute_result"
    }
   ],
   "source": [
    "ijsselsteinseweg.dataframes['MS-VAR']"
   ]
  },
  {
   "cell_type": "code",
   "execution_count": 9,
   "metadata": {},
   "outputs": [
    {
     "data": {
      "text/html": [
       "<div>\n",
       "<style scoped>\n",
       "    .dataframe tbody tr th:only-of-type {\n",
       "        vertical-align: middle;\n",
       "    }\n",
       "\n",
       "    .dataframe tbody tr th {\n",
       "        vertical-align: top;\n",
       "    }\n",
       "\n",
       "    .dataframe thead th {\n",
       "        text-align: right;\n",
       "    }\n",
       "</style>\n",
       "<table border=\"1\" class=\"dataframe\">\n",
       "  <thead>\n",
       "    <tr style=\"text-align: right;\">\n",
       "      <th></th>\n",
       "      <th>Smax</th>\n",
       "      <th>dSmax</th>\n",
       "      <th>DefRat</th>\n",
       "      <th>dDef</th>\n",
       "      <th>omega</th>\n",
       "      <th>phi</th>\n",
       "      <th>beta</th>\n",
       "    </tr>\n",
       "  </thead>\n",
       "  <tbody>\n",
       "    <tr>\n",
       "      <th>0</th>\n",
       "      <td>152</td>\n",
       "      <td>152</td>\n",
       "      <td>2.17e-02</td>\n",
       "      <td>4.00e+00</td>\n",
       "      <td>1.03e-02</td>\n",
       "      <td>2.29e-02</td>\n",
       "      <td>1.27e-04</td>\n",
       "    </tr>\n",
       "    <tr>\n",
       "      <th>1</th>\n",
       "      <td>188</td>\n",
       "      <td>36</td>\n",
       "      <td>4.04e-03</td>\n",
       "      <td>7.20e+00</td>\n",
       "      <td>1.24e-03</td>\n",
       "      <td>5.68e-03</td>\n",
       "      <td>3.89e-02</td>\n",
       "    </tr>\n",
       "    <tr>\n",
       "      <th>2</th>\n",
       "      <td>188</td>\n",
       "      <td>39</td>\n",
       "      <td>1.15e-02</td>\n",
       "      <td>0.00e+00</td>\n",
       "      <td>1.15e-02</td>\n",
       "      <td>1.15e-02</td>\n",
       "      <td>0.00e+00</td>\n",
       "    </tr>\n",
       "    <tr>\n",
       "      <th>3</th>\n",
       "      <td>149</td>\n",
       "      <td>11</td>\n",
       "      <td>5.79e-03</td>\n",
       "      <td>0.00e+00</td>\n",
       "      <td>5.79e-03</td>\n",
       "      <td>5.79e-03</td>\n",
       "      <td>0.00e+00</td>\n",
       "    </tr>\n",
       "    <tr>\n",
       "      <th>4</th>\n",
       "      <td>138</td>\n",
       "      <td>34</td>\n",
       "      <td>9.44e-03</td>\n",
       "      <td>0.00e+00</td>\n",
       "      <td>9.44e-03</td>\n",
       "      <td>9.44e-03</td>\n",
       "      <td>0.00e+00</td>\n",
       "    </tr>\n",
       "    <tr>\n",
       "      <th>5</th>\n",
       "      <td>104</td>\n",
       "      <td>104</td>\n",
       "      <td>9.63e-03</td>\n",
       "      <td>7.84e+00</td>\n",
       "      <td>3.89e-03</td>\n",
       "      <td>1.53e-02</td>\n",
       "      <td>0.00e+00</td>\n",
       "    </tr>\n",
       "  </tbody>\n",
       "</table>\n",
       "</div>"
      ],
      "text/plain": [
       "   Smax  dSmax   DefRat     dDef    omega      phi     beta\n",
       "0   152    152 2.17e-02 4.00e+00 1.03e-02 2.29e-02 1.27e-04\n",
       "1   188     36 4.04e-03 7.20e+00 1.24e-03 5.68e-03 3.89e-02\n",
       "2   188     39 1.15e-02 0.00e+00 1.15e-02 1.15e-02 0.00e+00\n",
       "3   149     11 5.79e-03 0.00e+00 5.79e-03 5.79e-03 0.00e+00\n",
       "4   138     34 9.44e-03 0.00e+00 9.44e-03 9.44e-03 0.00e+00\n",
       "5   104    104 9.63e-03 7.84e+00 3.89e-03 1.53e-02 0.00e+00"
      ]
     },
     "execution_count": 9,
     "metadata": {},
     "output_type": "execute_result"
    }
   ],
   "source": [
    "ijsselsteinseweg.dataframes['sri']"
   ]
  },
  {
   "cell_type": "code",
   "execution_count": 10,
   "metadata": {},
   "outputs": [
    {
     "data": {
      "text/html": [
       "<div>\n",
       "<style scoped>\n",
       "    .dataframe tbody tr th:only-of-type {\n",
       "        vertical-align: middle;\n",
       "    }\n",
       "\n",
       "    .dataframe tbody tr th {\n",
       "        vertical-align: top;\n",
       "    }\n",
       "\n",
       "    .dataframe thead th {\n",
       "        text-align: right;\n",
       "    }\n",
       "</style>\n",
       "<table border=\"1\" class=\"dataframe\">\n",
       "  <thead>\n",
       "    <tr style=\"text-align: right;\">\n",
       "      <th></th>\n",
       "      <th>e_tot</th>\n",
       "      <th>e_bt</th>\n",
       "      <th>e_dt</th>\n",
       "      <th>e_h</th>\n",
       "      <th>l_s</th>\n",
       "      <th>dw_s</th>\n",
       "      <th>l_h</th>\n",
       "      <th>dw_h</th>\n",
       "    </tr>\n",
       "  </thead>\n",
       "  <tbody>\n",
       "    <tr>\n",
       "      <th>0</th>\n",
       "      <td>1.68e-04</td>\n",
       "      <td>1.68e-04</td>\n",
       "      <td>0.00e+00</td>\n",
       "      <td>0.00e+00</td>\n",
       "      <td>0.00e+00</td>\n",
       "      <td>0.00e+00</td>\n",
       "      <td>7.00e+03</td>\n",
       "      <td>4.00e+00</td>\n",
       "    </tr>\n",
       "    <tr>\n",
       "      <th>1</th>\n",
       "      <td>1.52e-03</td>\n",
       "      <td>2.74e-03</td>\n",
       "      <td>1.52e-03</td>\n",
       "      <td>3.04e-03</td>\n",
       "      <td>0.00e+00</td>\n",
       "      <td>0.00e+00</td>\n",
       "      <td>8.90e+03</td>\n",
       "      <td>7.20e+00</td>\n",
       "    </tr>\n",
       "    <tr>\n",
       "      <th>2</th>\n",
       "      <td>0.00e+00</td>\n",
       "      <td>0.00e+00</td>\n",
       "      <td>0.00e+00</td>\n",
       "      <td>0.00e+00</td>\n",
       "      <td>0.00e+00</td>\n",
       "      <td>0.00e+00</td>\n",
       "      <td>0.00e+00</td>\n",
       "      <td>0.00e+00</td>\n",
       "    </tr>\n",
       "    <tr>\n",
       "      <th>3</th>\n",
       "      <td>0.00e+00</td>\n",
       "      <td>0.00e+00</td>\n",
       "      <td>0.00e+00</td>\n",
       "      <td>0.00e+00</td>\n",
       "      <td>0.00e+00</td>\n",
       "      <td>0.00e+00</td>\n",
       "      <td>0.00e+00</td>\n",
       "      <td>0.00e+00</td>\n",
       "    </tr>\n",
       "    <tr>\n",
       "      <th>4</th>\n",
       "      <td>7.67e-04</td>\n",
       "      <td>7.67e-04</td>\n",
       "      <td>3.84e-04</td>\n",
       "      <td>7.67e-04</td>\n",
       "      <td>0.00e+00</td>\n",
       "      <td>0.00e+00</td>\n",
       "      <td>0.00e+00</td>\n",
       "      <td>0.00e+00</td>\n",
       "    </tr>\n",
       "    <tr>\n",
       "      <th>5</th>\n",
       "      <td>3.51e-04</td>\n",
       "      <td>3.51e-04</td>\n",
       "      <td>0.00e+00</td>\n",
       "      <td>0.00e+00</td>\n",
       "      <td>6.40e+03</td>\n",
       "      <td>2.69e+00</td>\n",
       "      <td>4.40e+03</td>\n",
       "      <td>7.84e+00</td>\n",
       "    </tr>\n",
       "  </tbody>\n",
       "</table>\n",
       "</div>"
      ],
      "text/plain": [
       "     e_tot     e_bt     e_dt      e_h      l_s     dw_s      l_h     dw_h\n",
       "0 1.68e-04 1.68e-04 0.00e+00 0.00e+00 0.00e+00 0.00e+00 7.00e+03 4.00e+00\n",
       "1 1.52e-03 2.74e-03 1.52e-03 3.04e-03 0.00e+00 0.00e+00 8.90e+03 7.20e+00\n",
       "2 0.00e+00 0.00e+00 0.00e+00 0.00e+00 0.00e+00 0.00e+00 0.00e+00 0.00e+00\n",
       "3 0.00e+00 0.00e+00 0.00e+00 0.00e+00 0.00e+00 0.00e+00 0.00e+00 0.00e+00\n",
       "4 7.67e-04 7.67e-04 3.84e-04 7.67e-04 0.00e+00 0.00e+00 0.00e+00 0.00e+00\n",
       "5 3.51e-04 3.51e-04 0.00e+00 0.00e+00 6.40e+03 2.69e+00 4.40e+03 7.84e+00"
      ]
     },
     "execution_count": 10,
     "metadata": {},
     "output_type": "execute_result"
    }
   ],
   "source": [
    "drop_1 = ['lh_s','dl_s','lh_h','dl_h']\n",
    "drop_2 = ['e_bh', 'e_bs','e_sh','e_ss','lh_s','lh_h','dl_s','dl_h']\n",
    "\n",
    "dr = ijsselsteinseweg.dataframes['LTSM-GF']\n",
    "dr.drop(drop_1, axis = 1)\n",
    "\n",
    "rr = ijsselsteinseweg.dataframes['LTSM-MS']\n",
    "rr.drop(drop_2, axis=1)"
   ]
  },
  {
   "cell_type": "code",
   "execution_count": 11,
   "metadata": {},
   "outputs": [
    {
     "data": {
      "text/html": [
       "<div>\n",
       "<style scoped>\n",
       "    .dataframe tbody tr th:only-of-type {\n",
       "        vertical-align: middle;\n",
       "    }\n",
       "\n",
       "    .dataframe tbody tr th {\n",
       "        vertical-align: top;\n",
       "    }\n",
       "\n",
       "    .dataframe thead th {\n",
       "        text-align: right;\n",
       "    }\n",
       "</style>\n",
       "<table border=\"1\" class=\"dataframe\">\n",
       "  <thead>\n",
       "    <tr style=\"text-align: right;\">\n",
       "      <th></th>\n",
       "      <th>e_tot</th>\n",
       "      <th>e_bt</th>\n",
       "      <th>e_dt</th>\n",
       "      <th>e_bh</th>\n",
       "      <th>e_bs</th>\n",
       "      <th>e_sh</th>\n",
       "      <th>e_ss</th>\n",
       "      <th>e_h</th>\n",
       "      <th>l_s</th>\n",
       "      <th>lh_s</th>\n",
       "      <th>dl_s</th>\n",
       "      <th>dw_s</th>\n",
       "      <th>l_h</th>\n",
       "      <th>lh_h</th>\n",
       "      <th>dl_h</th>\n",
       "      <th>dw_h</th>\n",
       "    </tr>\n",
       "  </thead>\n",
       "  <tbody>\n",
       "    <tr>\n",
       "      <th>0</th>\n",
       "      <td>1.68e-04</td>\n",
       "      <td>1.68e-04</td>\n",
       "      <td>0.00e+00</td>\n",
       "      <td>1.68e-04</td>\n",
       "      <td>0.00e+00</td>\n",
       "      <td>6.91e-04</td>\n",
       "      <td>0.00e+00</td>\n",
       "      <td>0.00e+00</td>\n",
       "      <td>0.00e+00</td>\n",
       "      <td>0.00e+00</td>\n",
       "      <td>0.00e+00</td>\n",
       "      <td>0.00e+00</td>\n",
       "      <td>7.00e+03</td>\n",
       "      <td>1.33e+00</td>\n",
       "      <td>5.71e-04</td>\n",
       "      <td>4.00e+00</td>\n",
       "    </tr>\n",
       "    <tr>\n",
       "      <th>1</th>\n",
       "      <td>1.52e-03</td>\n",
       "      <td>2.74e-03</td>\n",
       "      <td>1.52e-03</td>\n",
       "      <td>2.96e-04</td>\n",
       "      <td>0.00e+00</td>\n",
       "      <td>9.59e-04</td>\n",
       "      <td>0.00e+00</td>\n",
       "      <td>3.04e-03</td>\n",
       "      <td>0.00e+00</td>\n",
       "      <td>0.00e+00</td>\n",
       "      <td>0.00e+00</td>\n",
       "      <td>0.00e+00</td>\n",
       "      <td>8.90e+03</td>\n",
       "      <td>1.70e+00</td>\n",
       "      <td>8.09e-04</td>\n",
       "      <td>7.20e+00</td>\n",
       "    </tr>\n",
       "    <tr>\n",
       "      <th>2</th>\n",
       "      <td>0.00e+00</td>\n",
       "      <td>0.00e+00</td>\n",
       "      <td>0.00e+00</td>\n",
       "      <td>0.00e+00</td>\n",
       "      <td>0.00e+00</td>\n",
       "      <td>0.00e+00</td>\n",
       "      <td>0.00e+00</td>\n",
       "      <td>0.00e+00</td>\n",
       "      <td>0.00e+00</td>\n",
       "      <td>0.00e+00</td>\n",
       "      <td>0.00e+00</td>\n",
       "      <td>0.00e+00</td>\n",
       "      <td>0.00e+00</td>\n",
       "      <td>0.00e+00</td>\n",
       "      <td>0.00e+00</td>\n",
       "      <td>0.00e+00</td>\n",
       "    </tr>\n",
       "    <tr>\n",
       "      <th>3</th>\n",
       "      <td>0.00e+00</td>\n",
       "      <td>0.00e+00</td>\n",
       "      <td>0.00e+00</td>\n",
       "      <td>0.00e+00</td>\n",
       "      <td>0.00e+00</td>\n",
       "      <td>0.00e+00</td>\n",
       "      <td>0.00e+00</td>\n",
       "      <td>0.00e+00</td>\n",
       "      <td>0.00e+00</td>\n",
       "      <td>0.00e+00</td>\n",
       "      <td>0.00e+00</td>\n",
       "      <td>0.00e+00</td>\n",
       "      <td>0.00e+00</td>\n",
       "      <td>0.00e+00</td>\n",
       "      <td>0.00e+00</td>\n",
       "      <td>0.00e+00</td>\n",
       "    </tr>\n",
       "    <tr>\n",
       "      <th>4</th>\n",
       "      <td>7.67e-04</td>\n",
       "      <td>7.67e-04</td>\n",
       "      <td>3.84e-04</td>\n",
       "      <td>0.00e+00</td>\n",
       "      <td>0.00e+00</td>\n",
       "      <td>0.00e+00</td>\n",
       "      <td>0.00e+00</td>\n",
       "      <td>7.67e-04</td>\n",
       "      <td>0.00e+00</td>\n",
       "      <td>0.00e+00</td>\n",
       "      <td>0.00e+00</td>\n",
       "      <td>0.00e+00</td>\n",
       "      <td>0.00e+00</td>\n",
       "      <td>0.00e+00</td>\n",
       "      <td>0.00e+00</td>\n",
       "      <td>0.00e+00</td>\n",
       "    </tr>\n",
       "    <tr>\n",
       "      <th>5</th>\n",
       "      <td>3.51e-04</td>\n",
       "      <td>3.51e-04</td>\n",
       "      <td>0.00e+00</td>\n",
       "      <td>3.51e-04</td>\n",
       "      <td>2.26e-04</td>\n",
       "      <td>2.20e-03</td>\n",
       "      <td>8.16e-05</td>\n",
       "      <td>0.00e+00</td>\n",
       "      <td>6.40e+03</td>\n",
       "      <td>2.56e+00</td>\n",
       "      <td>4.20e-04</td>\n",
       "      <td>2.69e+00</td>\n",
       "      <td>4.40e+03</td>\n",
       "      <td>8.80e-01</td>\n",
       "      <td>1.78e-03</td>\n",
       "      <td>7.84e+00</td>\n",
       "    </tr>\n",
       "  </tbody>\n",
       "</table>\n",
       "</div>"
      ],
      "text/plain": [
       "     e_tot     e_bt     e_dt     e_bh     e_bs     e_sh     e_ss      e_h  \\\n",
       "0 1.68e-04 1.68e-04 0.00e+00 1.68e-04 0.00e+00 6.91e-04 0.00e+00 0.00e+00   \n",
       "1 1.52e-03 2.74e-03 1.52e-03 2.96e-04 0.00e+00 9.59e-04 0.00e+00 3.04e-03   \n",
       "2 0.00e+00 0.00e+00 0.00e+00 0.00e+00 0.00e+00 0.00e+00 0.00e+00 0.00e+00   \n",
       "3 0.00e+00 0.00e+00 0.00e+00 0.00e+00 0.00e+00 0.00e+00 0.00e+00 0.00e+00   \n",
       "4 7.67e-04 7.67e-04 3.84e-04 0.00e+00 0.00e+00 0.00e+00 0.00e+00 7.67e-04   \n",
       "5 3.51e-04 3.51e-04 0.00e+00 3.51e-04 2.26e-04 2.20e-03 8.16e-05 0.00e+00   \n",
       "\n",
       "       l_s     lh_s     dl_s     dw_s      l_h     lh_h     dl_h     dw_h  \n",
       "0 0.00e+00 0.00e+00 0.00e+00 0.00e+00 7.00e+03 1.33e+00 5.71e-04 4.00e+00  \n",
       "1 0.00e+00 0.00e+00 0.00e+00 0.00e+00 8.90e+03 1.70e+00 8.09e-04 7.20e+00  \n",
       "2 0.00e+00 0.00e+00 0.00e+00 0.00e+00 0.00e+00 0.00e+00 0.00e+00 0.00e+00  \n",
       "3 0.00e+00 0.00e+00 0.00e+00 0.00e+00 0.00e+00 0.00e+00 0.00e+00 0.00e+00  \n",
       "4 0.00e+00 0.00e+00 0.00e+00 0.00e+00 0.00e+00 0.00e+00 0.00e+00 0.00e+00  \n",
       "5 6.40e+03 2.56e+00 4.20e-04 2.69e+00 4.40e+03 8.80e-01 1.78e-03 7.84e+00  "
      ]
     },
     "execution_count": 11,
     "metadata": {},
     "output_type": "execute_result"
    }
   ],
   "source": [
    "rr"
   ]
  },
  {
   "cell_type": "code",
   "execution_count": 12,
   "metadata": {},
   "outputs": [
    {
     "data": {
      "text/plain": [
       "array([-20.57142857, -21.71428571, -22.85714286])"
      ]
     },
     "execution_count": 12,
     "metadata": {},
     "output_type": "execute_result"
    }
   ],
   "source": [
    "x = ijsselsteinseweg.house['Wall 1']['y']\n",
    "z = ijsselsteinseweg.house['Wall 1']['z']\n",
    "\n",
    "np.gradient(z,x)"
   ]
  }
 ],
 "metadata": {
  "kernelspec": {
   "display_name": "TUD-JF",
   "language": "python",
   "name": "python3"
  },
  "language_info": {
   "codemirror_mode": {
    "name": "ipython",
    "version": 3
   },
   "file_extension": ".py",
   "mimetype": "text/x-python",
   "name": "python",
   "nbconvert_exporter": "python",
   "pygments_lexer": "ipython3",
   "version": "3.10.8"
  }
 },
 "nbformat": 4,
 "nbformat_minor": 2
}

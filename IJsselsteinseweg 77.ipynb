{
 "cells": [
  {
   "cell_type": "markdown",
   "metadata": {},
   "source": [
    "<img \n",
    "    style=\"position: absolute; \n",
    "           left: 60%; \n",
    "           top: 0; /* Added to ensure proper positioning */\n",
    "           height: 900px; \n",
    "           width: 40%; /* Maintain the original width */\n",
    "           object-fit: cover; /* Adjust if necessary */\n",
    "           clip-path: inset(0px 50px 0px 50px round 10px);\" \n",
    "    src= \"_data\\Doc\\buildingdamage.svg\"\n",
    "/>\n",
    "</figure>\n",
    "\n",
    "\n",
    "<h1 style=\"width: 60%; color: #EC6842; font-size: 55pt;\">\n",
    "    <Strong>\n",
    "        IJsselsteinseweg 77\n",
    "    </Strong>\n",
    "</h1>\n",
    "\n",
    "<h2 id=\"Background\"><B>\n",
    "    Rationale for the project<a class=\"anchor-link\" href=\"#Background\">&#182;</a>\n",
    "    </B>\n",
    "</h2>\n",
    "<p style=\"text-align: justify; width: 60%; font-weight: normal;\">\n",
    "     This studies case study is the building IJsselsteinseweg 77 in Nieuwegein in the Netherlands, a deatched 2-layer unreinforced masonry structure from 1961 with 2 floors and a cellar which was eventually demolished circa 2015. We can evaluate the state of damage before its demolishing due to a Foundation research report that was commissioned by the owner to Sandra Lobbe Ispectie & Advies, a building consulting firm who carried out the building and foundation investigation on June 2019 and thereafter produced a report documenting the buildings measurements, characteristics, damage state and their own assessment on the necessary course of action or risk of the building integrity due to subsidence effects. The main assessment found that the current capacity provided by the building’s foundation was Insufficient and given the experienced deformations by the building and the damage state of the building, countermeasures should be implemented in a period of 1-5 years following the assessment date. \n",
    "</p>"
   ]
  },
  {
   "cell_type": "markdown",
   "metadata": {},
   "source": [
    "## <strong> X | Imports</strong>"
   ]
  },
  {
   "cell_type": "code",
   "execution_count": 2,
   "metadata": {},
   "outputs": [],
   "source": [
    "from bricks import house, LTSM, EM\n",
    "from bricks.assessment import compute_damage_parameter\n",
    "from bricks.tools import plots\n",
    "\n",
    "import numpy as np"
   ]
  },
  {
   "cell_type": "markdown",
   "metadata": {},
   "source": [
    "## <strong> 0 | Instantiate `HOUSE` object</strong>"
   ]
  },
  {
   "cell_type": "markdown",
   "metadata": {},
   "source": [
    "### <strong> 0.1 | Structure dimensions and measurements</strong>"
   ]
  },
  {
   "cell_type": "code",
   "execution_count": 3,
   "metadata": {},
   "outputs": [],
   "source": [
    "walls = {\n",
    "    'wall1':{\"x\": np.array([0, 0, 0]), \"y\": np.array([0, 3.5, 7]), \"z\": np.array([0, -72, -152]), 'phi': np.array([1/200,1/200]), 'height': 5250, 'thickness': 27,'area': 390600},\n",
    "    'wall2':{\"x\": np.array([0, 4.5, 8.9]), \"y\": np.array([7, 7, 7]), \"z\": np.array([-152, -163, -188]),  'phi': np.array([1/33,1/50]), 'height': 5250, 'thickness': 27,'area': 464625},\n",
    "'wall3':{\"x\": np.array([8.9, 8.9]), \"y\": np.array([3.6, 7]), \"z\": np.array([-149, -188]), 'phi': np.array([0,0]), 'height': 5250, 'thickness': 27,'area': 166950},\n",
    "    'wall4':{\"x\": np.array([8.9, 10.8]), \"y\": np.array([3.6, 3.6]), \"z\": np.array([-149,-138]), 'phi': np.array([0,0]), 'height': 2850, 'thickness': 27,'area': 49020},\n",
    "    'wall5':{\"x\": np.array([10.8, 10.8]), \"y\": np.array([0, 3.6]), \"z\": np.array([-104, -138]), 'phi': np.array([1/77,1/67]), 'height': 2850, 'thickness': 27,'area': 96720},\n",
    "    'wall6':{\"x\": np.array([0, 5.2, 6.4, 8.9, 10.8]), \"y\": np.array([0, 0, 0, 0, 0]), \"z\": np.array([0, -42, -55, -75, -104]), 'phi': np.array([1/100,1/100]), 'height': 5000, 'thickness': 27, 'area': 517980},\n",
    "}\n",
    "\n",
    "ijsselsteinseweg = house(measurements = walls)"
   ]
  },
  {
   "cell_type": "code",
   "execution_count": 4,
   "metadata": {},
   "outputs": [
    {
     "ename": "TypeError",
     "evalue": "'int' object is not iterable",
     "output_type": "error",
     "traceback": [
      "\u001b[1;31m---------------------------------------------------------------------------\u001b[0m",
      "\u001b[1;31mTypeError\u001b[0m                                 Traceback (most recent call last)",
      "Cell \u001b[1;32mIn[4], line 10\u001b[0m\n\u001b[0;32m      1\u001b[0m damage \u001b[38;5;241m=\u001b[39m  { \u001b[38;5;124m'\u001b[39m\u001b[38;5;124mcrack_1\u001b[39m\u001b[38;5;124m'\u001b[39m : {\u001b[38;5;124m'\u001b[39m\u001b[38;5;124mwall_id\u001b[39m\u001b[38;5;124m'\u001b[39m : \u001b[38;5;124m'\u001b[39m\u001b[38;5;124mwall2\u001b[39m\u001b[38;5;124m'\u001b[39m,\u001b[38;5;124m'\u001b[39m\u001b[38;5;124mc_w\u001b[39m\u001b[38;5;124m'\u001b[39m: \u001b[38;5;241m4\u001b[39m,\u001b[38;5;124m'\u001b[39m\u001b[38;5;124mc_l\u001b[39m\u001b[38;5;124m'\u001b[39m: \u001b[38;5;241m885\u001b[39m,},\n\u001b[0;32m      2\u001b[0m             \u001b[38;5;124m'\u001b[39m\u001b[38;5;124mcrack_2\u001b[39m\u001b[38;5;124m'\u001b[39m : {\u001b[38;5;124m'\u001b[39m\u001b[38;5;124mwall_id\u001b[39m\u001b[38;5;124m'\u001b[39m : \u001b[38;5;124m'\u001b[39m\u001b[38;5;124mwall1\u001b[39m\u001b[38;5;124m'\u001b[39m,\u001b[38;5;124m'\u001b[39m\u001b[38;5;124mc_w\u001b[39m\u001b[38;5;124m'\u001b[39m: \u001b[38;5;241m2\u001b[39m,\u001b[38;5;124m'\u001b[39m\u001b[38;5;124mc_l\u001b[39m\u001b[38;5;124m'\u001b[39m: \u001b[38;5;241m1670\u001b[39m,},\n\u001b[0;32m      3\u001b[0m             \u001b[38;5;124m'\u001b[39m\u001b[38;5;124mcrack_3\u001b[39m\u001b[38;5;124m'\u001b[39m : {\u001b[38;5;124m'\u001b[39m\u001b[38;5;124mwall_id\u001b[39m\u001b[38;5;124m'\u001b[39m : \u001b[38;5;124m'\u001b[39m\u001b[38;5;124mwall2\u001b[39m\u001b[38;5;124m'\u001b[39m,\u001b[38;5;124m'\u001b[39m\u001b[38;5;124mc_w\u001b[39m\u001b[38;5;124m'\u001b[39m: \u001b[38;5;241m2\u001b[39m,\u001b[38;5;124m'\u001b[39m\u001b[38;5;124mc_l\u001b[39m\u001b[38;5;124m'\u001b[39m: \u001b[38;5;241m1868\u001b[39m,},\n\u001b[1;32m   (...)\u001b[0m\n\u001b[0;32m      7\u001b[0m             \u001b[38;5;124m'\u001b[39m\u001b[38;5;124mcrack_7\u001b[39m\u001b[38;5;124m'\u001b[39m : {\u001b[38;5;124m'\u001b[39m\u001b[38;5;124mwall_id\u001b[39m\u001b[38;5;124m'\u001b[39m : \u001b[38;5;124m'\u001b[39m\u001b[38;5;124mwall2\u001b[39m\u001b[38;5;124m'\u001b[39m,\u001b[38;5;124m'\u001b[39m\u001b[38;5;124mc_w\u001b[39m\u001b[38;5;124m'\u001b[39m: \u001b[38;5;241m0.1\u001b[39m,\u001b[38;5;124m'\u001b[39m\u001b[38;5;124mc_l\u001b[39m\u001b[38;5;124m'\u001b[39m: \u001b[38;5;241m500\u001b[39m,},\n\u001b[0;32m      8\u001b[0m             \u001b[38;5;124m'\u001b[39m\u001b[38;5;124mcrack_8\u001b[39m\u001b[38;5;124m'\u001b[39m : {\u001b[38;5;124m'\u001b[39m\u001b[38;5;124mwall_id\u001b[39m\u001b[38;5;124m'\u001b[39m : \u001b[38;5;124m'\u001b[39m\u001b[38;5;124mwall2\u001b[39m\u001b[38;5;124m'\u001b[39m,\u001b[38;5;124m'\u001b[39m\u001b[38;5;124mc_w\u001b[39m\u001b[38;5;124m'\u001b[39m: \u001b[38;5;241m2\u001b[39m,\u001b[38;5;124m'\u001b[39m\u001b[38;5;124mc_l\u001b[39m\u001b[38;5;124m'\u001b[39m: \u001b[38;5;241m993\u001b[39m,}}\n\u001b[1;32m---> 10\u001b[0m dict_ \u001b[38;5;241m=\u001b[39m \u001b[43mcompute_damage_parameter\u001b[49m\u001b[43m(\u001b[49m\u001b[43mdamage\u001b[49m\u001b[43m,\u001b[49m\u001b[43m \u001b[49m\u001b[38;5;28;43mobject\u001b[39;49m\u001b[43m \u001b[49m\u001b[38;5;241;43m=\u001b[39;49m\u001b[43m \u001b[49m\u001b[43mijsselsteinseweg\u001b[49m\u001b[43m)\u001b[49m\n",
      "File \u001b[1;32mc:\\Users\\javie\\OneDrive - Delft University of Technology\\Year 2\\Q3 & Q4\\CIEM0500 - MS Thesis Project\\!content\\Experimentation\\!Ijsselsteinseweg\\bricks\\assessment\\assess.py:46\u001b[0m, in \u001b[0;36mcompute_damage_parameter\u001b[1;34m(damage, object)\u001b[0m\n\u001b[0;32m     44\u001b[0m     param \u001b[38;5;241m=\u001b[39m damage[key]\n\u001b[0;32m     45\u001b[0m     n_c \u001b[38;5;241m+\u001b[39m\u001b[38;5;241m=\u001b[39m [key]\n\u001b[1;32m---> 46\u001b[0m     c_w_n \u001b[38;5;241m+\u001b[39m\u001b[38;5;241m=\u001b[39m param[\u001b[38;5;124m'\u001b[39m\u001b[38;5;124mc2_w\u001b[39m\u001b[38;5;124m'\u001b[39m] \u001b[38;5;241m*\u001b[39m param[\u001b[38;5;124m'\u001b[39m\u001b[38;5;124mc_l\u001b[39m\u001b[38;5;124m'\u001b[39m]\n\u001b[0;32m     47\u001b[0m     c_w_d \u001b[38;5;241m+\u001b[39m\u001b[38;5;241m=\u001b[39m param[\u001b[38;5;124m'\u001b[39m\u001b[38;5;124mc_w\u001b[39m\u001b[38;5;124m'\u001b[39m] \u001b[38;5;241m*\u001b[39m param[\u001b[38;5;124m'\u001b[39m\u001b[38;5;124mc_l\u001b[39m\u001b[38;5;124m'\u001b[39m]\n\u001b[0;32m     48\u001b[0m n_c \u001b[38;5;241m=\u001b[39m \u001b[38;5;28mlen\u001b[39m(n_c)\n",
      "\u001b[1;31mTypeError\u001b[0m: 'int' object is not iterable"
     ]
    }
   ],
   "source": [
    "damage =  { 'crack_1' : {'wall_id' : 'wall2','c_w': 4,'c_l': 885,},\n",
    "            'crack_2' : {'wall_id' : 'wall1','c_w': 2,'c_l': 1670,},\n",
    "            'crack_3' : {'wall_id' : 'wall2','c_w': 2,'c_l': 1868,},\n",
    "            'crack_4' : {'wall_id' : 'wall7','c_w': 0.1,'c_l': 2000,},\n",
    "            'crack_5' : {'wall_id' : 'wall2','c_w': 2,'c_l': 1760,},\n",
    "            'crack_6' : {'wall_id' : 'wall2','c_w': 1,'c_l': 994,},\n",
    "            'crack_7' : {'wall_id' : 'wall2','c_w': 0.1,'c_l': 500,},\n",
    "            'crack_8' : {'wall_id' : 'wall2','c_w': 2,'c_l': 993,}}\n",
    "\n",
    "dict_ = compute_damage_parameter(damage, object = ijsselsteinseweg)"
   ]
  },
  {
   "cell_type": "markdown",
   "metadata": {},
   "source": [
    "### <strong> 0.2 | Estimate the settlement related intensity paramters</strong>"
   ]
  },
  {
   "cell_type": "code",
   "execution_count": 3,
   "metadata": {},
   "outputs": [],
   "source": [
    "ijsselsteinseweg.SRI()"
   ]
  },
  {
   "cell_type": "markdown",
   "metadata": {},
   "source": [
    "### <strong> 0.3 | Estimating the displacement surface</strong>"
   ]
  },
  {
   "cell_type": "code",
   "execution_count": null,
   "metadata": {},
   "outputs": [],
   "source": [
    "ijsselsteinseweg.interpolate() # Interpolate subsidence shape\n",
    "params = ijsselsteinseweg.soil['house'].values()\n",
    "plots.plot_surface(*params)"
   ]
  },
  {
   "cell_type": "markdown",
   "metadata": {},
   "source": [
    "### <strong> 0.4 | Estimating the displacement surface</strong>"
   ]
  },
  {
   "cell_type": "code",
   "execution_count": null,
   "metadata": {},
   "outputs": [],
   "source": [
    "plots.wall_displacement(ijsselsteinseweg)"
   ]
  },
  {
   "cell_type": "markdown",
   "metadata": {},
   "source": [
    "From the above data we can observe how all curves increasingly progress towards the maximum displacement but do not resemble a gaussian shape which we assume to be the shape that subsidence patterns take. As a consequence we require to try to extrapolate outside the data to conitnuate the subisdence shape and we make use of an optimisation algorithm in order to find the values of the different variables in the function.   "
   ]
  },
  {
   "cell_type": "markdown",
   "metadata": {},
   "source": [
    "### <strong> 0.5 | Estimating the greenfield soil profile for the building</strong>\n"
   ]
  },
  {
   "cell_type": "code",
   "execution_count": null,
   "metadata": {},
   "outputs": [],
   "source": [
    "ijsselsteinseweg.fit_function(i_guess = 1, tolerance = 1e-2, step = 1) # Fit gaussian shapes to walls\n",
    "plots.subsidence(ijsselsteinseweg, building = False, soil= True, deformation= True)"
   ]
  },
  {
   "cell_type": "markdown",
   "metadata": {},
   "source": [
    "## <strong> 1 | Estimating the damage to the building</strong>\n"
   ]
  },
  {
   "cell_type": "markdown",
   "metadata": {},
   "source": [
    "### <strong> 1.1 | Assessment through empirical methods </strong>"
   ]
  },
  {
   "cell_type": "code",
   "execution_count": null,
   "metadata": {},
   "outputs": [],
   "source": [
    "ijsselsteinseweg.SRI()\n",
    "report = EM(ijsselsteinseweg.soil['sri'])\n",
    "app = plots.EM_plot(report)\n",
    "\n",
    "app.run_server(debug=False)"
   ]
  },
  {
   "cell_type": "markdown",
   "metadata": {},
   "source": [
    "### <strong> 1.2 | Assessment through graphical methods </strong>"
   ]
  },
  {
   "cell_type": "markdown",
   "metadata": {},
   "source": [
    "### <strong> 1.3 | Assesment through mechanical methods, the LTSM </strong>\n",
    "\n",
    "Include further assumptions as conditions\n",
    "2. TILT VERIFICATION??\n",
    "3. Height in sagging zone NA assumed to be at t= H/2 where as for hogging we assume the NA to be at the lower edge therfore t=H \n",
    "2. IDEA: Define as function determine potential maximum strain values and calibrate E/G ratio"
   ]
  },
  {
   "cell_type": "code",
   "execution_count": null,
   "metadata": {},
   "outputs": [],
   "source": [
    "limit_line = -1\n",
    "eg_rat =  11  #Reccomended 12.6 ## May vary # Calibrate\n",
    "\n",
    "LTSM(ijsselsteinseweg, limit_line, eg_rat, save = True)\n",
    "app = plots.LTSM_plot(ijsselsteinseweg)    \n",
    "\n",
    "app.run_server(debug=True, dev_tools_ui=False)"
   ]
  },
  {
   "cell_type": "markdown",
   "metadata": {},
   "source": [
    "### <strong> Y | Proces save data </strong>\n"
   ]
  },
  {
   "cell_type": "code",
   "execution_count": 12,
   "metadata": {},
   "outputs": [],
   "source": [
    "dicts = [ijsselsteinseweg.soil['sri'], ijsselsteinseweg.process['ltsm']['results'], ijsselsteinseweg.process['ltsm']['variables']]\n",
    "names = ['SRI', 'LTSM', 'VARIABLES']\n",
    "ijsselsteinseweg.process_dfs(dicts, names)"
   ]
  },
  {
   "cell_type": "code",
   "execution_count": 10,
   "metadata": {},
   "outputs": [
    {
     "data": {
      "text/plain": [
       "166991.0"
      ]
     },
     "execution_count": 10,
     "metadata": {},
     "output_type": "execute_result"
    }
   ],
   "source": [
    "import numpy as np\n",
    "react = np.array([1.00E+00,2.06E+03,1.06E+03,1.94E+03,1.94E+03,2.06E+03,1.06E+03,2.00E+03,2.07E+03,2.10E+03,2.09E+03,2.09E+03,2.10E+03,2.27E+03,2.97E+03,2.92E+03,2.94E+03,2.94E+03,2.92E+03,2.97E+03,2.27E+03,2.10E+03,2.09E+03,2.09E+03,2.10E+03,2.07E+03,2.00E+03,5.06E+03,4.39E+03,4.20E+03,4.18E+03,4.20E+03,4.18E+03,4.07E+03,3.76E+03,5.91E+03,5.87E+03,5.87E+03,6.13E+03,5.91E+03,4.18E+03,5.06E+03,4.20E+03,4.20E+03,4.39E+03,4.07E+03,4.18E+03,5.87E+03,3.76E+03,6.13E+03])\n",
    "react.sum()"
   ]
  },
  {
   "cell_type": "code",
   "execution_count": 9,
   "metadata": {},
   "outputs": [
    {
     "data": {
      "text/plain": [
       "88500.0"
      ]
     },
     "execution_count": 9,
     "metadata": {},
     "output_type": "execute_result"
    }
   ],
   "source": []
  },
  {
   "cell_type": "code",
   "execution_count": 11,
   "metadata": {},
   "outputs": [
    {
     "data": {
      "text/plain": [
       "167035.556507025"
      ]
     },
     "execution_count": 11,
     "metadata": {},
     "output_type": "execute_result"
    }
   ],
   "source": [
    "(4.25*8.85 - 2.085*1.379*2 - 1.22*0.94*2)*0.15*1805*9.81 + 10e3*8.85"
   ]
  }
 ],
 "metadata": {
  "kernelspec": {
   "display_name": "TUD-JF",
   "language": "python",
   "name": "python3"
  },
  "language_info": {
   "codemirror_mode": {
    "name": "ipython",
    "version": 3
   },
   "file_extension": ".py",
   "mimetype": "text/x-python",
   "name": "python",
   "nbconvert_exporter": "python",
   "pygments_lexer": "ipython3",
   "version": "3.10.8"
  }
 },
 "nbformat": 4,
 "nbformat_minor": 2
}

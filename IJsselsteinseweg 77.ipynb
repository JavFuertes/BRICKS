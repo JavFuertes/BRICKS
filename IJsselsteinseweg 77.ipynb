{
 "cells": [
  {
   "cell_type": "markdown",
   "metadata": {},
   "source": [
    "<img \n",
    "    style=\"position: absolute; \n",
    "           left: 60%; \n",
    "           top: 0; /* Added to ensure proper positioning */\n",
    "           height: 900px; \n",
    "           width: 40%; /* Maintain the original width */\n",
    "           object-fit: cover; /* Adjust if necessary */\n",
    "           clip-path: inset(0px 50px 0px 50px round 10px);\" \n",
    "    src= \"_data\\fig\\buildingdamage.svg\"\n",
    "/>\n",
    "</figure>\n",
    "\n",
    "\n",
    "<h1 style=\"width: 60%; color: #EC6842; font-size: 55pt;\">\n",
    "    <Strong>\n",
    "        IJsselsteinseweg 77\n",
    "    </Strong>\n",
    "</h1>\n",
    "\n",
    "<h2 id=\"Background\"><B>\n",
    "    Rationale for the project<a class=\"anchor-link\" href=\"#Background\">&#182;</a>\n",
    "    </B>\n",
    "</h2>\n",
    "<p style=\"text-align: justify; width: 60%; font-weight: normal;\">\n",
    "     This studies case study is the building IJsselsteinseweg 77 in Nieuwegein in the Netherlands, a deatched 2-layer unreinforced masonry structure from 1961 with 2 floors and a cellar which was eventually demolished circa 2015. We can evaluate the state of damage before its demolishing due to a Foundation research report that was commissioned by the owner to Sandra Lobbe Ispectie & Advies, a building consulting firm who carried out the building and foundation investigation on June 2019 and thereafter produced a report documenting the buildings measurements, characteristics, damage state and their own assessment on the necessary course of action or risk of the building integrity due to subsidence effects. The main assessment found that the current capacity provided by the building’s foundation was Insufficient and given the experienced deformations by the building and the damage state of the building, countermeasures should be implemented in a period of 1-5 years following the assessment date. \n",
    "</p>"
   ]
  },
  {
   "cell_type": "markdown",
   "metadata": {},
   "source": [
    "## <strong> X | Imports</strong>"
   ]
  },
  {
   "cell_type": "code",
   "execution_count": 1,
   "metadata": {},
   "outputs": [],
   "source": [
    "from bricks import house, LTSM, EM\n",
    "from bricks.tools.plots import EM_plot, LTSM_plot, subsurface\n",
    "\n",
    "import numpy as np\n",
    "from multiprocessing import Process"
   ]
  },
  {
   "cell_type": "markdown",
   "metadata": {},
   "source": [
    "## <strong> 0 | Instantiate `HOUSE` object</strong>"
   ]
  },
  {
   "cell_type": "markdown",
   "metadata": {},
   "source": [
    "### <strong> 0.1 | Structure dimensions and measurements</strong>"
   ]
  },
  {
   "cell_type": "code",
   "execution_count": 2,
   "metadata": {},
   "outputs": [],
   "source": [
    "walls = {\n",
    "    'Wall 1':{\"x\": np.array([0, 0, 0]), \"y\": np.array([0, 3.5, 7]), \"z\": np.array([0, -72, -152]), 'phi': np.array([1/200,1/200]), 'height': 5250, 'thickness': 27,'area': 390600},\n",
    "    'Wall 2':{\"x\": np.array([0, 4.5, 8.9]), \"y\": np.array([7, 7, 7]), \"z\": np.array([-152, -163, -188]),  'phi': np.array([1/33,1/50]), 'height': 5250, 'thickness': 27,'area': 464625},\n",
    "    'Wall 3':{\"x\": np.array([8.9, 8.9]), \"y\": np.array([3.6, 7]), \"z\": np.array([-149, -188]), 'phi': np.array([0,0]), 'height': 5250, 'thickness': 27,'area': 166950},\n",
    "    'Wall 4':{\"x\": np.array([8.9, 10.8]), \"y\": np.array([3.6, 3.6]), \"z\": np.array([-149,-138]), 'phi': np.array([0,0]), 'height': 2850, 'thickness': 27,'area': 49020},\n",
    "    'Wall 5':{\"x\": np.array([10.8, 10.8]), \"y\": np.array([0, 3.6]), \"z\": np.array([-104, -138]), 'phi': np.array([1/77,1/67]), 'height': 2850, 'thickness': 27,'area': 96720},\n",
    "    'Wall 6':{\"x\": np.array([0, 5.2, 6.4, 8.9, 10.8]), \"y\": np.array([0, 0, 0, 0, 0]), \"z\": np.array([0, -42, -55, -75, -104]), 'phi': np.array([1/100,1/100]), 'height': 5000, 'thickness': 27, 'area': 517980},\n",
    "}\n",
    "\n",
    "damage =  { 'crack_1' : {'wall_id' : 'Wall 2','c_w': 4,'c_l': 890,},\n",
    "            'crack_2' : {'wall_id' : 'Wall 1','c_w': 2,'c_l': 1670,},\n",
    "            'crack_3' : {'wall_id' : 'Wall 2','c_w': 3,'c_l': 1868,},\n",
    "            'crack_4' : {'wall_id' : 'Wall 7','c_w': 0.1,'c_l': 2000,},\n",
    "            'crack_5' : {'wall_id' : 'Wall 2','c_w': 2,'c_l': 1760,},\n",
    "            'crack_6' : {'wall_id' : 'Wall 2','c_w': 1,'c_l': 994,},\n",
    "            'crack_7' : {'wall_id' : 'Wall 2','c_w': 0.1,'c_l': 500,},\n",
    "            'crack_8' : {'wall_id' : 'Wall 2','c_w': 2,'c_l': 993,}}\n",
    "\n",
    "ijsselsteinseweg = house(measurements = walls)\n",
    "ijsselsteinseweg.state = damage"
   ]
  },
  {
   "cell_type": "markdown",
   "metadata": {},
   "source": [
    "### <strong> 0.2 | Estimating the displacement surface & greenfield profile</strong>"
   ]
  },
  {
   "cell_type": "code",
   "execution_count": null,
   "metadata": {},
   "outputs": [],
   "source": [
    "ijsselsteinseweg.interpolate() # Interpolate subsidence shape\n",
    "params = ijsselsteinseweg.soil['house'].values()\n",
    "ijsselsteinseweg.fit_function(i_guess = 1, tolerance = 1e-2, step = 1) # Fit gaussian shapes to walls\n",
    "\n",
    "app = subsurface(ijsselsteinseweg, *params)\n",
    "app.run_server(port=8050, debug=False)"
   ]
  },
  {
   "cell_type": "markdown",
   "metadata": {},
   "source": [
    "From the above data we can observe how all curves increasingly progress towards the maximum displacement but do not resemble a gaussian shape which we assume to be the shape that subsidence patterns take. As a consequence we require to try to extrapolate outside the data to conitnuate the subisdence shape and we make use of an optimisation algorithm in order to find the values of the different variables in the function.   "
   ]
  },
  {
   "cell_type": "markdown",
   "metadata": {},
   "source": [
    "## <strong> 1 | Assessing the damage of the building</strong>\n",
    "\n",
    "### <strong> 1.1 | Assesment through Empirical Methods </strong>"
   ]
  },
  {
   "cell_type": "code",
   "execution_count": null,
   "metadata": {},
   "outputs": [],
   "source": [
    "ijsselsteinseweg.SRI() #Compute the SRI parameters\n",
    "report = EM(ijsselsteinseweg.soil['sri'])\n",
    "\n",
    "app = EM_plot(report)\n",
    "app.run_server(port=8051, debug=False)"
   ]
  },
  {
   "cell_type": "markdown",
   "metadata": {},
   "source": [
    "### <strong> 1.2 | Assesment through the LTSM </strong>\n",
    "\n",
    "Include further assumptions as conditions\n",
    "2. TILT VERIFICATION??\n",
    "3. Height in sagging zone NA assumed to be at t= H/2 where as for hogging we assume the NA to be at the lower edge therfore t=H \n",
    "2. IDEA: Define as function determine potential maximum strain values and calibrate E/G ratio"
   ]
  },
  {
   "cell_type": "code",
   "execution_count": null,
   "metadata": {},
   "outputs": [],
   "source": [
    "limit_line = -1\n",
    "eg_rat =  11  #Reccomended 12.6 ## May vary # Calibrate\n",
    "LTSM(ijsselsteinseweg, limit_line, eg_rat, methods = ['greenfield','measurements'])\n",
    "\n",
    "app = LTSM_plot(ijsselsteinseweg)    \n",
    "app.run_server(port=8052, debug=True, dev_tools_ui=False)"
   ]
  },
  {
   "cell_type": "code",
   "execution_count": null,
   "metadata": {},
   "outputs": [],
   "source": [
    "report1 = ijsselsteinseweg.assessment['ltsm']['greenfield']['report']\n",
    "report2 = ijsselsteinseweg.assessment['ltsm']['measurements']['report']\n",
    "\n",
    "app = EM_plot(report2)\n",
    "app.run_server(port=8054, debug=False)"
   ]
  },
  {
   "cell_type": "markdown",
   "metadata": {},
   "source": [
    "### <strong> Y | Proces save data </strong>\n"
   ]
  },
  {
   "cell_type": "code",
   "execution_count": 8,
   "metadata": {},
   "outputs": [],
   "source": [
    "dicts = [ijsselsteinseweg.soil['sri'],\n",
    "         ijsselsteinseweg.assessment['ltsm']['greenfield']['results'],\n",
    "         ijsselsteinseweg.assessment['ltsm']['measurements']['results']]\n",
    "names = ['SRI', 'LTSM-GF','LTSM-MS', 'VARIABLES']\n",
    "ijsselsteinseweg.process_dfs(dicts, names)"
   ]
  },
  {
   "cell_type": "code",
   "execution_count": null,
   "metadata": {},
   "outputs": [],
   "source": [
    "ijsselsteinseweg.dataframes['SRI']"
   ]
  },
  {
   "cell_type": "code",
   "execution_count": null,
   "metadata": {},
   "outputs": [],
   "source": [
    "ijsselsteinseweg.dataframes['LTSM-GF']"
   ]
  },
  {
   "cell_type": "code",
   "execution_count": null,
   "metadata": {},
   "outputs": [],
   "source": [
    "ijsselsteinseweg.dataframes['LTSM-MS']"
   ]
  }
 ],
 "metadata": {
  "kernelspec": {
   "display_name": "TUD-JF",
   "language": "python",
   "name": "python3"
  },
  "language_info": {
   "codemirror_mode": {
    "name": "ipython",
    "version": 3
   },
   "file_extension": ".py",
   "mimetype": "text/x-python",
   "name": "python",
   "nbconvert_exporter": "python",
   "pygments_lexer": "ipython3",
   "version": "3.10.8"
  }
 },
 "nbformat": 4,
 "nbformat_minor": 2
}

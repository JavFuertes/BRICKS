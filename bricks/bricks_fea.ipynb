{
 "cells": [
  {
   "cell_type": "markdown",
   "metadata": {},
   "source": [
    "<img \n",
    "    style=\"position: absolute; \n",
    "           left: 60%; \n",
    "           top: 0; /* Added to ensure proper positioning */\n",
    "           height: 500px; \n",
    "           width: 40%; /* Maintain the original width */\n",
    "           object-fit: cover; /* Adjust if necessary */\n",
    "           clip-path: inset(0px 50px 0px 50px round 10px);\" \n",
    "    src= \"../.github/public_html/fig/Major crack Width development.png\"\n",
    "/>\n",
    "</figure>\n",
    "\n",
    "\n",
    "<h1 style=\"width: 60%; color: #EC6842; font-size: 55pt;\">\n",
    "    <Strong>\n",
    "        IJsselsteinseweg <br>FEA Study\n",
    "    </Strong>\n",
    "</h1>\n",
    "\n",
    "<h2 id=\"Background\"><B>\n",
    "    Rationale for the project<a class=\"anchor-link\" href=\"#Background\">&#182;</a>\n",
    "    </B>\n",
    "</h2>\n",
    "<p style=\"text-align: justify; width: 60%; font-weight: normal;\">\n",
    "     This studies case study is the building will also evaluate the capabilities of FEA for the assessment of unreinforced masonry structures undergoing subsidence. For this measure understanding and analysing the capabilities of a finite element analysis are a important part in the validation of the model and the presenting of results. This notebook illustrates some of the different tools built for the analysis of such models and its implementations in different analysis types. Due to the limitations of the analysis output characteristics from DIANA FEA not all components of these analysis are able to have been done algorithmically therefore, it is reccomended to read this modules README.MD notes in order to ensure the different requirements for these analysis are well implemented in your models. \n",
    "</p>"
   ]
  },
  {
   "cell_type": "markdown",
   "metadata": {},
   "source": [
    "## <strong> X | Imports</strong>"
   ]
  },
  {
   "cell_type": "code",
   "execution_count": 1,
   "metadata": {},
   "outputs": [],
   "source": [
    "from fea.tools.utils import *\n",
    "from fea.main import analyse_models\n",
    "\n",
    "import numpy as np\n",
    "import matplotlib.pyplot as plt"
   ]
  },
  {
   "cell_type": "markdown",
   "metadata": {},
   "source": [
    "## <strong> 1 | Find Model parameters</strong>"
   ]
  },
  {
   "cell_type": "code",
   "execution_count": 2,
   "metadata": {},
   "outputs": [],
   "source": [
    "walls = {\n",
    "    'Wall 1':{\"x\": np.array([0, 0, 0]), \"y\": np.array([0, 3.5, 7]), \"z\": np.array([0, -72, -152]), 'phi': np.array([1/200,1/200]), 'height': 5250, 'thickness': 27,'area': 390600},\n",
    "    'Wall 2':{\"x\": np.array([0, 4.5, 8.9]), \"y\": np.array([7, 7, 7]), \"z\": np.array([-152, -163, -188]),  'phi': np.array([1/33,1/50]), 'height': 5250, 'thickness': 27,'area': 464625},\n",
    "    'Wall 3':{\"x\": np.array([8.9, 8.9]), \"y\": np.array([3.6, 7]), \"z\": np.array([-149, -188]), 'phi': np.array([0,0]), 'height': 5250, 'thickness': 27,'area': 166950},\n",
    "    'Wall 4':{\"x\": np.array([8.9, 10.8]), \"y\": np.array([3.6, 3.6]), \"z\": np.array([-149,-138]), 'phi': np.array([0,0]), 'height': 2850, 'thickness': 27,'area': 49020},\n",
    "    'Wall 5':{\"x\": np.array([10.8, 10.8]), \"y\": np.array([0, 3.6]), \"z\": np.array([-104, -138]), 'phi': np.array([1/77,1/67]), 'height': 2850, 'thickness': 27,'area': 96720},\n",
    "    'Wall 6':{\"x\": np.array([0, 5.2, 6.4, 8.9, 10.8]), \"y\": np.array([0, 0, 0, 0, 0]), \"z\": np.array([0, -42, -55, -75, -104]), 'phi': np.array([1/100,1/100]), 'height': 5000, 'thickness': 27, 'area': 517980},\n",
    "}"
   ]
  },
  {
   "cell_type": "code",
   "execution_count": 12,
   "metadata": {},
   "outputs": [
    {
     "data": {
      "text/plain": [
       "719.0"
      ]
     },
     "execution_count": 12,
     "metadata": {},
     "output_type": "execute_result"
    }
   ],
   "source": [
    "x = walls['Wall 2']['x']\n",
    "z = walls['Wall 2']['z']\n",
    "dz = z - z[0]\n",
    "\n",
    "iter = find_iter(dz,max_rate=0.05)\n",
    "iter"
   ]
  },
  {
   "cell_type": "markdown",
   "metadata": {},
   "source": [
    "## <strong> 2 | Process runs</strong>"
   ]
  },
  {
   "cell_type": "code",
   "execution_count": null,
   "metadata": {},
   "outputs": [],
   "source": [
    "# ------------------------------- EMM-Staircase ------------------------------ #\n",
    "analysis_info = {\n",
    "    'Displacement': {\n",
    "        'plot_type': 'Displacement',\n",
    "        'Node Nr': [22, 23]\n",
    "    },\n",
    "    'Mutual': {\n",
    "        'plot_type': 'Mutual',\n",
    "        'Node Nr': [[22, 23],[22, 23]],\n",
    "        'Reference': [['TDtY','TDtY'],['TDtY','TDtX']]\n",
    "    },\n",
    "    'Crack width': {\n",
    "        'plot_type': 'Crack Width',\n",
    "        'EOI': [[38, 433],\n",
    "                [267, 277, 412],\n",
    "                [35, 166, 203, 212, 387, 421, 485, 523, 602, 684, 723, 766, 867],\n",
    "                [14, 288, 361, 449, 527, 573, 710, 720],\n",
    "                [119, 151, 206, 263, 365, 567, 612],\n",
    "                [64, 67, 308, 396, 403, 568, 569, 664, 700]]\n",
    "    },\n",
    "    'Damage level': { \n",
    "        'plot_type': 'Damage level',\n",
    "        'parameters': {\n",
    "            'cracks': {\n",
    "                'EOI': [[38, 433],\n",
    "                        [267, 277, 412],\n",
    "                        [35, 166, 203, 212, 387, 421, 485, 523, 602, 684, 723, 766, 867],\n",
    "                        [14, 288, 361, 449, 527, 573, 710, 720],\n",
    "                        [119, 151, 206, 263, 365, 567, 612],\n",
    "                        [64, 67, 308, 396, 403, 568, 569, 664, 700]],\n",
    "                'element_size': 200,\n",
    "                },         \n",
    "    }\n",
    "}}\n",
    "\n",
    "plot_settings = {\n",
    "    'Displacement': {\n",
    "        'traces': ['A - Experienced displacement\\n[Node 22, Bottom-left]', 'B - Applied Displacement\\n[Node 23, Top-left]'],\n",
    "        'labels': ['Load factor $\\lambda$', 'Displacement $u_y$ [mm]'],\n",
    "        'titles': 'Displacements at locations of interest',\n",
    "        'scientific': True\n",
    "    },\n",
    "    'Mutual': {\n",
    "        'traces': ['${u_{y,B}}/{u_{y,A}}$','${u_{y,B}}/{u_{x,A}}$'],\n",
    "        'labels': ['Displacement A [mm]', 'Displacement B [mm]'],\n",
    "        'titles': 'Relative displacements at locations of interest',\n",
    "        'scientific': False\n",
    "    },\n",
    "    'Crack width': {\n",
    "        'traces': ['Crack 1.1 [Superior-Right]','Crack 1.1 [Superior-Left]', 'Crack 2.1 [Middle-Left]','Crack 2.2 [Middle-Right]','Crack 3.1 [Inferior-Left]','Crack 3.2 [Inferior-Right]'],\n",
    "        'labels': ['Load factor $\\lambda$', 'Crack Width $c_w$ [mm]'],\n",
    "        'titles': 'Major crack Width development',\n",
    "        'scientific': True\n",
    "    },\n",
    "    'Damage level': {\n",
    "        'traces': ['$\\psi$ Wall 2'],\n",
    "        'labels': ['Load factor $\\lambda$', 'Damage Parameter $\\psi$'],\n",
    "        'titles': 'Damage level progression',\n",
    "        'scientific': True\n",
    "    }\n",
    "}\n",
    "\n",
    "dir = r'C:\\Users\\javie\\OneDrive - Delft University of Technology\\Year 2\\Q3 & Q4\\CIEM0500 - MS Thesis Project\\!content\\Experimentation\\Modelling\\Models\\EMM\\2D\\Standard\\2\\Outer\\2DW2O - EMS'\n",
    "analyse_models(dir,analysis_info, plot_settings)"
   ]
  },
  {
   "cell_type": "markdown",
   "metadata": {},
   "source": [
    "### <strong> 3.3 | Produce individual plots</strong>"
   ]
  }
 ],
 "metadata": {
  "kernelspec": {
   "display_name": "TUD-JF",
   "language": "python",
   "name": "python3"
  },
  "language_info": {
   "codemirror_mode": {
    "name": "ipython",
    "version": 3
   },
   "file_extension": ".py",
   "mimetype": "text/x-python",
   "name": "python",
   "nbconvert_exporter": "python",
   "pygments_lexer": "ipython3",
   "version": "3.10.8"
  }
 },
 "nbformat": 4,
 "nbformat_minor": 2
}

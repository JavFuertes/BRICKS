{
 "cells": [
  {
   "cell_type": "markdown",
   "id": "fcb2dc0d",
   "metadata": {},
   "source": [
    "# PyJive workshop: TimoshenkoModel"
   ]
  },
  {
   "cell_type": "code",
   "execution_count": 2,
   "id": "c74ddbfd",
   "metadata": {
    "tags": []
   },
   "outputs": [],
   "source": [
    "import sys\n",
    "import os \n",
    "import matplotlib.pyplot as plt\n",
    "import numpy as np\n",
    "\n",
    "pyjivepath = '../pyjive/'\n",
    "sys.path.append(pyjivepath)\n",
    "\n",
    "if not os.path.isfile(pyjivepath + 'utils/proputils.py'):\n",
    "    print('\\n\\n**pyjive cannot be found, adapt \"pyjivepath\" above or move notebook to appropriate folder**\\n\\n')\n",
    "    raise Exception('pyjive not found')\n",
    "\n",
    "from utils import proputils as pu\n",
    "import main\n",
    "from names import GlobNames as gn"
   ]
  },
  {
   "cell_type": "code",
   "execution_count": 3,
   "id": "a64dd914-547e-4600-84e0-65f9e8b05fdb",
   "metadata": {},
   "outputs": [
    {
     "name": "stdout",
     "output_type": "stream",
     "text": [
      "Downloading timoshenko.mesh...\n",
      "Downloading timoshenko.pro...\n"
     ]
    }
   ],
   "source": [
    "import contextlib\n",
    "from urllib.request import urlretrieve\n",
    "\n",
    "def findfile(fname):\n",
    "    url = \"https://gitlab.tudelft.nl/cm/public/drive/-/raw/main/structural/\" + fname + \"?inline=false\"\n",
    "    if not os.path.isfile(fname):\n",
    "        print(f\"Downloading {fname}...\")\n",
    "        urlretrieve(url, fname)\n",
    "\n",
    "findfile(\"timoshenko.mesh\")\n",
    "findfile(\"timoshenko.pro\")"
   ]
  },
  {
   "cell_type": "markdown",
   "id": "ec3ab11c-4691-40ae-97ba-8b8e2aaf8347",
   "metadata": {},
   "source": [
    "### Cantilever beam example\n",
    "\n",
    "Consider the following model of a cantilever beam:\n",
    "\n",
    "<center><img src=\"https://raw.githubusercontent.com/fmeer/public-files/main/5123/cantilever.png\" alt=\"cantilever beam\" width=\"300\"/></center>\n",
    "\n",
    "with $EI=2\\cdot 10^4\\,\\mathrm{Nm}^2$, $GA_\\mathrm{s} = 10^5\\,\\mathrm{N}$ and $P=1\\,\\mathrm{N}$.\n",
    "\n",
    "The goal here is to examine the response of the finite element solution by considering the vertical displacement $w$ under the point of application of the load $P$ and compare it with the analytical solution:\n",
    "\n",
    "$$w(L)=\\frac{PL^3}{3EI}+\\frac{PL}{GA_\\mathrm{s}}$$\n",
    "\n",
    "Run the example with input file and mesh file given below and compare your results to the analytical solution."
   ]
  },
  {
   "cell_type": "code",
   "execution_count": 4,
   "id": "adb30f49-9a44-4107-9eec-6ea29add85f9",
   "metadata": {
    "tags": []
   },
   "outputs": [
    {
     "name": "stdout",
     "output_type": "stream",
     "text": [
      "Initializing module chain...\n",
      "InitModule: Creating DofSpace...\n",
      "InitModule: Reading manual mesh file timoshenko.mesh ...\n",
      "InitModule: Creating node groups...\n",
      "InitModule: Created group left with nodes [0]\n",
      "InitModule: Created group right with nodes [10]\n",
      "InitModule: Creating model...\n",
      "Creating Line2Shape...\n",
      "Running chain...\n",
      "Running time step 0\n",
      "End of execution\n"
     ]
    }
   ],
   "source": [
    "props = pu.parse_file('timoshenko.pro')\n",
    "globdat = main.jive(props)"
   ]
  },
  {
   "cell_type": "markdown",
   "id": "6a63a5b1-21e7-4ffe-9234-2914237868c8",
   "metadata": {},
   "source": [
    "### Mesh-refinement study\n",
    "\n",
    "Now we will perform an investigation in how the mesh affects the solution. We can expect the solution to become more accurate when using more elements. Since we have an analytical solution for the end displacement, we can assess how the difference between FEM solution and the exact solution changes when increasing the number of elements. Additionally, we can look at the solution $w(x)$ for different mesh sizes. \n",
    "\n",
    "An almost complete code block is provided below. \n",
    "\n",
    "<div style=\"background-color:#AABAB2; color: black; vertical-align: middle; padding:15px; margin: 10px; border-radius: 10px\">\n",
    "<p>\n",
    "<b>Task 2: Perform the mesh-refinement study</b>   \n",
    "\n",
    "Compare the end-displacement for different meshes. The comparisons should be made by producing numerical results with **1, 2, 4, 8, 16 and 32 elements** and drawing conclusions in terms of accuracy and convergence behavior for the two distinct scenarios below. \n",
    "    \n",
    "- Compute the error as the absolute difference between the simulation result and the analytical solution for $w(L)$. Note that `w_exact` is already computed in the notebook. \n",
    "- After running the cell results in two figures. One shows $w(x)$ for the different meshes. What is in the other plot? \n",
    "    \n",
    "</p>\n",
    "</div>\n",
    "    "
   ]
  }
 ],
 "metadata": {
  "kernelspec": {
   "display_name": "Python 3 (ipykernel)",
   "language": "python",
   "name": "python3"
  },
  "language_info": {
   "codemirror_mode": {
    "name": "ipython",
    "version": 3
   },
   "file_extension": ".py",
   "mimetype": "text/x-python",
   "name": "python",
   "nbconvert_exporter": "python",
   "pygments_lexer": "ipython3",
   "version": "3.10.8"
  }
 },
 "nbformat": 4,
 "nbformat_minor": 5
}

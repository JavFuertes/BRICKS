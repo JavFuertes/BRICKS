{
 "cells": [
  {
   "cell_type": "markdown",
   "metadata": {},
   "source": [
    "<img \n",
    "    style=\"position: absolute; \n",
    "           left: 60%; \n",
    "           top: 0; /* Added to ensure proper positioning */\n",
    "           height: 900px; \n",
    "           width: 40%; /* Maintain the original width */\n",
    "           object-fit: cover; /* Adjust if necessary */\n",
    "           clip-path: inset(0px 50px 0px 50px round 10px);\" \n",
    "    src= \"public_html\\_data\\fig\\buildingdamage.svg\"\n",
    "/>\n",
    "</figure>\n",
    "\n",
    "\n",
    "<h1 style=\"width: 60%; color: #EC6842; font-size: 55pt;\">\n",
    "    <Strong>\n",
    "        IJsselsteinseweg 77\n",
    "    </Strong>\n",
    "</h1>\n",
    "\n",
    "<h2 id=\"Background\"><B>\n",
    "    Rationale for the project<a class=\"anchor-link\" href=\"#Background\">&#182;</a>\n",
    "    </B>\n",
    "</h2>\n",
    "<p style=\"text-align: justify; width: 60%; font-weight: normal;\">\n",
    "     This studies case study is the building IJsselsteinseweg 77 in Nieuwegein in the Netherlands, a deatched 2-layer unreinforced masonry structure from 1961 with 2 floors and a cellar which was eventually demolished circa 2015. We can evaluate the state of damage before its demolishing due to a Foundation research report that was commissioned by the owner to Sandra Lobbe Ispectie & Advies, a building consulting firm who carried out the building and foundation investigation on June 2019 and thereafter produced a report documenting the buildings measurements, characteristics, damage state and their own assessment on the necessary course of action or risk of the building integrity due to subsidence effects. The main assessment found that the current capacity provided by the building’s foundation was Insufficient and given the experienced deformations by the building and the damage state of the building, countermeasures should be implemented in a period of 1-5 years following the assessment date. \n",
    "</p>"
   ]
  },
  {
   "cell_type": "markdown",
   "metadata": {},
   "source": [
    "## <strong> X | Imports</strong>"
   ]
  },
  {
   "cell_type": "code",
   "execution_count": 1,
   "metadata": {},
   "outputs": [],
   "source": [
    "from bricks.analytical import house, LTSM, EM\n",
    "from bricks.analytical.assessment.tools.plots import EM_plot, LTSM_plot, subsurface\n",
    "\n",
    "import numpy as np"
   ]
  },
  {
   "cell_type": "markdown",
   "metadata": {},
   "source": [
    "## <strong> 0 | Instantiate `HOUSE` object</strong>"
   ]
  },
  {
   "cell_type": "markdown",
   "metadata": {},
   "source": [
    "### <strong> 0.1 | Structure dimensions and measurements</strong>"
   ]
  },
  {
   "cell_type": "code",
   "execution_count": 2,
   "metadata": {},
   "outputs": [],
   "source": [
    "walls = {\n",
    "    'Wall 1':{\"x\": np.array([0, 0, 0]), \"y\": np.array([0, 3.5, 7]), \"z\": np.array([0, -72, -152]), 'phi': np.array([1/200,1/200]), 'height': 5250, 'thickness': 27,'area': 34.25,'area': 34.25, 'opening': 4.86},\n",
    "    'Wall 2':{\"x\": np.array([0, 4.5, 8.9]), \"y\": np.array([7, 7, 7]), \"z\": np.array([-152, -163, -188]),  'phi': np.array([1/33,1/50]), 'height': 5250, 'thickness': 27,'area': 37,'opening': 9.36},\n",
    "    'Wall 3':{\"x\": np.array([8.9, 8.9]), \"y\": np.array([3.6, 7]), \"z\": np.array([-149, -188]), 'phi': np.array([0,0]), 'height': 5250, 'thickness': 27,'area': 24.35, 'opening': 4.98},\n",
    "    'Wall 4':{\"x\": np.array([8.9, 10.8]), \"y\": np.array([3.6, 3.6]), \"z\": np.array([-149,-138]), 'phi': np.array([0,0]), 'height': 2850, 'thickness': 27,'area': 8.09, 'opening': 1.68},\n",
    "    'Wall 5':{\"x\": np.array([10.8, 10.8]), \"y\": np.array([0, 3.6]), \"z\": np.array([-104, -138]), 'phi': np.array([0,0]), 'height': 2850, 'thickness': 27,'area': 9.15, 'opening': 1},\n",
    "    'Wall 6':{\"x\": np.array([0, 5.2, 6.4, 8.9, 10.8]), \"y\": np.array([0, 0, 0, 0, 0]), \"z\": np.array([0, -42, -55, -75, -104]), 'phi': np.array([1/100,1/100]), 'height': 5000, 'thickness': 27, 'area': 47.58, 'opening': 4.42},\n",
    "}\n",
    "\n",
    "damage =  {'crack_1' : {'wall_id' : 'Wall 2','c_w': 4,'c_l': 890,},\n",
    "           'crack_2' : {'wall_id' : 'Wall 1','c_w': 2,'c_l': 1670,},\n",
    "           #'crack_3' : {'wall_id' : 'Wall 2','c_w': 3,'c_l': 1868,},\n",
    "           'crack_5' : {'wall_id' : 'Wall 2','c_w': 3,'c_l': 1760,},\n",
    "           #'crack_6' : {'wall_id' : 'Wall 2','c_w': 3,'c_l': 1200,},\n",
    "           #'crack_7' : {'wall_id' : 'Wall 2','c_w': 2,'c_l': 600,},\n",
    "           'crack_9' : {'wall_id' : 'Wall 2','c_w': 2,'c_l': 994,},\n",
    "           #'crack_10': {'wall_id' : 'Wall 2','c_w': 2,'c_l': 980,}\n",
    "           }\n",
    "\n",
    "ijsselsteinseweg = house(measurements = walls)\n",
    "ijsselsteinseweg.state = damage"
   ]
  },
  {
   "cell_type": "markdown",
   "metadata": {},
   "source": [
    "### <strong> 0.2 | Estimating the displacement surface & greenfield profile</strong>"
   ]
  },
  {
   "cell_type": "code",
   "execution_count": 3,
   "metadata": {},
   "outputs": [
    {
     "data": {
      "text/html": [
       "\n",
       "        <iframe\n",
       "            width=\"100%\"\n",
       "            height=\"650\"\n",
       "            src=\"http://127.0.0.1:8050/\"\n",
       "            frameborder=\"0\"\n",
       "            allowfullscreen\n",
       "            \n",
       "        ></iframe>\n",
       "        "
      ],
      "text/plain": [
       "<IPython.lib.display.IFrame at 0x24844499780>"
      ]
     },
     "metadata": {},
     "output_type": "display_data"
    }
   ],
   "source": [
    "ijsselsteinseweg.interpolate() # Interpolate subsidence shape\n",
    "ijsselsteinseweg.fit_function(i_guess = 1, tolerance = 1e-2, step = 1) # Fit gaussian shapes to walls\n",
    "\n",
    "params = ijsselsteinseweg.soil['house'].values()\n",
    "app = subsurface(ijsselsteinseweg, *params)\n",
    "app.run_server(port=8050, debug=False)"
   ]
  },
  {
   "cell_type": "markdown",
   "metadata": {},
   "source": [
    "## <strong> 1 | Assessing the damage of the building</strong>"
   ]
  },
  {
   "cell_type": "code",
   "execution_count": null,
   "metadata": {},
   "outputs": [],
   "source": [
    "dam = compute_damage_parameter(damage, object = ijsselsteinseweg)"
   ]
  },
  {
   "cell_type": "markdown",
   "metadata": {},
   "source": [
    "### <strong> 1.1 | Assesment through Empirical Methods </strong>"
   ]
  },
  {
   "cell_type": "code",
   "execution_count": 5,
   "metadata": {},
   "outputs": [
    {
     "data": {
      "text/html": [
       "\n",
       "        <iframe\n",
       "            width=\"100%\"\n",
       "            height=\"650\"\n",
       "            src=\"http://127.0.0.1:8051/\"\n",
       "            frameborder=\"0\"\n",
       "            allowfullscreen\n",
       "            \n",
       "        ></iframe>\n",
       "        "
      ],
      "text/plain": [
       "<IPython.lib.display.IFrame at 0x24849f5c8b0>"
      ]
     },
     "metadata": {},
     "output_type": "display_data"
    }
   ],
   "source": [
    "ijsselsteinseweg.SRI(tolerance= 0.01) #Compute the SRI parameters\n",
    "report = EM(ijsselsteinseweg.soil['sri'])\n",
    "\n",
    "app = EM_plot(report)\n",
    "app.run_server(port=8051, debug=False)"
   ]
  },
  {
   "cell_type": "markdown",
   "metadata": {},
   "source": [
    "### <strong> 1.2 | Assesment through the LTSM </strong>\n",
    "\n",
    "Include further assumptions as conditions\n",
    "2. TILT VERIFICATION??\n",
    "3. Height in sagging zone NA assumed to be at t= H/2 where as for hogging we assume the NA to be at the lower edge therfore t=H \n",
    "2. IDEA: Define as function determine potential maximum strain values and calibrate E/G ratio"
   ]
  },
  {
   "cell_type": "code",
   "execution_count": 6,
   "metadata": {},
   "outputs": [
    {
     "data": {
      "text/html": [
       "\n",
       "        <iframe\n",
       "            width=\"100%\"\n",
       "            height=\"650\"\n",
       "            src=\"http://127.0.0.1:8052/\"\n",
       "            frameborder=\"0\"\n",
       "            allowfullscreen\n",
       "            \n",
       "        ></iframe>\n",
       "        "
      ],
      "text/plain": [
       "<IPython.lib.display.IFrame at 0x2484a60b220>"
      ]
     },
     "metadata": {},
     "output_type": "display_data"
    }
   ],
   "source": [
    "limit_line = -1\n",
    "LTSM(ijsselsteinseweg, limit_line, methods = ['greenfield','measurements'])\n",
    "\n",
    "app = LTSM_plot(ijsselsteinseweg)    \n",
    "app.run_server(port=8052, debug=True, dev_tools_ui=False)"
   ]
  },
  {
   "cell_type": "code",
   "execution_count": null,
   "metadata": {},
   "outputs": [],
   "source": [
    "report1 = ijsselsteinseweg.assessment['ltsm']['greenfield']['report']\n",
    "report2 = ijsselsteinseweg.assessment['ltsm']['measurements']['report']\n",
    "\n",
    "app = EM_plot(report2)\n",
    "app.run_server(port=8054, debug=False)"
   ]
  },
  {
   "cell_type": "markdown",
   "metadata": {},
   "source": [
    "### <strong> Y | Proces save data </strong>\n"
   ]
  },
  {
   "cell_type": "code",
   "execution_count": null,
   "metadata": {},
   "outputs": [],
   "source": [
    "dicts = [ijsselsteinseweg.soil['sri'],\n",
    "         ijsselsteinseweg.process['params'],\n",
    "         ijsselsteinseweg.assessment['ltsm']['greenfield']['results'],\n",
    "         ijsselsteinseweg.assessment['ltsm']['measurements']['results'],\n",
    "         ijsselsteinseweg.soil['shape']]\n",
    "names = ['sri','gf_params','LTSM-GF','LTSM-MS', 'MS-VAR']\n",
    "ijsselsteinseweg.process_dfs(dicts, names)"
   ]
  },
  {
   "cell_type": "code",
   "execution_count": null,
   "metadata": {},
   "outputs": [],
   "source": [
    "drop_1 = ['lh_s','dl_s','lh_h','dl_h']\n",
    "drop_2 = ['e_bh', 'e_bs','e_h','e_sh','e_ss','lh_s','lh_h','dl_s','dl_h']\n",
    "\n",
    "df1 = ijsselsteinseweg.dataframes['LTSM-MS']\n",
    "df1 = df1.drop(drop_1, axis = 1)\n",
    "\n",
    "df2 = ijsselsteinseweg.dataframes['LTSM-MS']\n",
    "df2 = df2.drop(drop_2, axis=1)"
   ]
  },
  {
   "cell_type": "code",
   "execution_count": null,
   "metadata": {},
   "outputs": [],
   "source": [
    "import pandas as pd\n",
    "\n",
    "with pd.ExcelWriter('output.xlsx') as writer:\n",
    "    df1.to_excel(writer, sheet_name='Sheet1')\n",
    "    df2.to_excel(writer, sheet_name='Sheet2')\n",
    "\n",
    "# No need to explicitly save, as `with` context will handle that."
   ]
  }
 ],
 "metadata": {
  "kernelspec": {
   "display_name": "TUD-JF",
   "language": "python",
   "name": "python3"
  },
  "language_info": {
   "codemirror_mode": {
    "name": "ipython",
    "version": 3
   },
   "file_extension": ".py",
   "mimetype": "text/x-python",
   "name": "python",
   "nbconvert_exporter": "python",
   "pygments_lexer": "ipython3",
   "version": "3.10.8"
  }
 },
 "nbformat": 4,
 "nbformat_minor": 2
}
